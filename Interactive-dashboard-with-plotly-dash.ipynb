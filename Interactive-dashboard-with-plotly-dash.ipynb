{
 "cells": [
  {
   "cell_type": "markdown",
   "id": "cd66f2ea-f42d-4ee4-954d-7ed08eb06058",
   "metadata": {},
   "source": [
    "# Build a Dashboard Application\n",
    "This is the second part of week 3's project after the folium maps"
   ]
  },
  {
   "cell_type": "code",
   "execution_count": 5,
   "id": "48ae2eb4-69a6-482b-a45b-1462cda729db",
   "metadata": {},
   "outputs": [],
   "source": [
    "import pandas as pd\n",
    "import dash\n",
    "from dash import html, dcc\n",
    "from dash.dependencies import Input, Output, State\n",
    "import plotly.graph_objects as go\n",
    "import plotly.express as px\n",
    "from dash import no_update\n",
    "import datetime as dt\n",
    "import wget"
   ]
  },
  {
   "cell_type": "code",
   "execution_count": 7,
   "id": "f2d32c2a-933a-455c-8650-96105e043792",
   "metadata": {},
   "outputs": [
    {
     "data": {
      "text/plain": [
       "'spacex_dash_app.py'"
      ]
     },
     "execution_count": 7,
     "metadata": {},
     "output_type": "execute_result"
    }
   ],
   "source": [
    "template_url = \"https://cf-courses-data.s3.us.cloud-object-storage.appdomain.cloud/IBM-DS0321EN-SkillsNetwork/labs/module_3/spacex_dash_app.py\"\n",
    "dash_template = wget.download(template_url)\n",
    "dash_template"
   ]
  },
  {
   "cell_type": "code",
   "execution_count": 11,
   "id": "0fdb29ee-4740-4cd8-b785-c71c5af8a6b2",
   "metadata": {},
   "outputs": [
    {
     "data": {
      "text/plain": [
       "'spacex_launch_dash.csv'"
      ]
     },
     "execution_count": 11,
     "metadata": {},
     "output_type": "execute_result"
    }
   ],
   "source": [
    "csv_url = \"https://cf-courses-data.s3.us.cloud-object-storage.appdomain.cloud/IBM-DS0321EN-SkillsNetwork/datasets/spacex_launch_dash.csv\"\n",
    "dash_csv = wget.download(csv_url)\n",
    "dash_csv"
   ]
  },
  {
   "cell_type": "code",
   "execution_count": 25,
   "id": "2133a203-a10e-4fcc-97e4-00019fbf5127",
   "metadata": {},
   "outputs": [],
   "source": [
    "# %load spacex_launch_dash.csv\n",
    ",Flight Number,Launch Site,class,Payload Mass (kg),Booster Version,Booster Version Category\n",
    "0,1,CCAFS LC-40,0,0,F9 v1.0  B0003,v1.0\n",
    "1,2,CCAFS LC-40,0,0,F9 v1.0  B0004,v1.0\n",
    "2,3,CCAFS LC-40,0,525,F9 v1.0  B0005,v1.0\n",
    "3,4,CCAFS LC-40,0,500,F9 v1.0  B0006,v1.0\n",
    "4,5,CCAFS LC-40,0,677,F9 v1.0  B0007,v1.0\n",
    "5,7,CCAFS LC-40,0,3170,F9 v1.1,v1.1\n",
    "6,8,CCAFS LC-40,0,3325,F9 v1.1,v1.1\n",
    "7,9,CCAFS LC-40,0,2296,F9 v1.1,v1.1\n",
    "8,10,CCAFS LC-40,0,1316,F9 v1.1,v1.1\n",
    "9,11,CCAFS LC-40,0,4535,F9 v1.1,v1.1\n",
    "10,12,CCAFS LC-40,0,4428,F9 v1.1 B1011,v1.1\n",
    "11,13,CCAFS LC-40,0,2216,F9 v1.1 B1010,v1.1\n",
    "12,14,CCAFS LC-40,0,2395,F9 v1.1 B1012,v1.1\n",
    "13,15,CCAFS LC-40,0,570,F9 v1.1 B1013,v1.1\n",
    "14,16,CCAFS LC-40,0,4159,F9 v1.1 B1014,v1.1\n",
    "15,17,CCAFS LC-40,0,1898,F9 v1.1 B1015,v1.1\n",
    "16,18,CCAFS LC-40,0,4707,F9 v1.1 B1016,v1.1\n",
    "17,19,CCAFS LC-40,1,1952,F9 v1.1 B1018,v1.1\n",
    "18,20,CCAFS LC-40,1,2034,F9 FT B1019,FT\n",
    "19,22,CCAFS LC-40,0,5271,F9 FT B1020,FT\n",
    "20,23,CCAFS LC-40,1,3136,F9 FT B1021.1,FT\n",
    "21,24,CCAFS LC-40,1,4696,F9 FT B1022,FT\n",
    "22,25,CCAFS LC-40,1,3100,F9 FT B1023.1,FT\n",
    "23,26,CCAFS LC-40,0,3600,F9 FT B1024,FT\n",
    "24,27,CCAFS LC-40,1,2257,F9 FT B1025.1,FT\n",
    "25,28,CCAFS LC-40,1,4600,F9 FT B1026,FT\n",
    "26,6,VAFB SLC-4E,0,500,F9 v1.1  B1003,v1.1\n",
    "27,21,VAFB SLC-4E,0,553,F9 v1.1 B1017,v1.1\n",
    "28,29,VAFB SLC-4E,1,9600,F9 FT B1029.1,FT\n",
    "29,37,VAFB SLC-4E,1,9600,F9 FT B1036.1,FT\n",
    "30,40,VAFB SLC-4E,1,475,F9 FT B1038.1,FT\n",
    "31,42,VAFB SLC-4E,1,9600,F9 B4 B1041.1,B4\n",
    "32,46,VAFB SLC-4E,0,9600,F9 FT  B1036.2,FT\n",
    "33,49,VAFB SLC-4E,0,2150,F9 FT  B1038.2,FT\n",
    "34,51,VAFB SLC-4E,0,9600,F9 B4  B1041.2,B4\n",
    "35,55,VAFB SLC-4E,0,6460,F9 B4  B1043.2,B4\n",
    "36,30,KSC LC-39A,1,2490,F9 FT B1031.1,FT\n",
    "37,31,KSC LC-39A,0,5600,F9 FT B1030,FT\n",
    "38,32,KSC LC-39A,1,5300,F9 FT  B1021.2,FT\n",
    "39,33,KSC LC-39A,1,3696.65,F9 FT B1032.1,FT\n",
    "40,34,KSC LC-39A,0,6070,F9 FT B1034,FT\n",
    "41,35,KSC LC-39A,1,2708,F9 FT B1035.1,FT\n",
    "42,36,KSC LC-39A,1,3669,F9 FT  B1029.2,FT\n",
    "43,38,KSC LC-39A,0,6761,F9 FT B1037,FT\n",
    "44,39,KSC LC-39A,1,3310,F9 B4 B1039.1,B4\n",
    "45,41,KSC LC-39A,1,4990,F9 B4 B1040.1,B4\n",
    "46,43,KSC LC-39A,1,5200,F9 FT  B1031.2,FT\n",
    "47,44,KSC LC-39A,1,3500,F9 B4 B1042.1,B4\n",
    "48,54,KSC LC-39A,1,3600,F9 B5  B1046.1,B5\n",
    "49,45,CCAFS SLC-40,1,2205,F9 FT  B1035.2,FT\n",
    "50,47,CCAFS SLC-40,1,3696.65,F9 B4 B1043.1,B4\n",
    "51,48,CCAFS SLC-40,0,4230,F9 FT  B1032.2,FT\n",
    "52,50,CCAFS SLC-40,0,6092,F9 B4 B1044,B4\n",
    "53,52,CCAFS SLC-40,0,2647,F9 B4  B1039.2,B4\n",
    "54,53,CCAFS SLC-40,1,362,F9 B4 B1045.1,B4\n",
    "55,56,CCAFS SLC-40,0,5384,F9 B4  B1040.2,B4"
   ]
  },
  {
   "cell_type": "code",
   "execution_count": 47,
   "id": "f394d11c-90b7-4e49-b31b-233bf5269ee3",
   "metadata": {},
   "outputs": [
    {
     "data": {
      "text/html": [
       "\n",
       "        <iframe\n",
       "            width=\"100%\"\n",
       "            height=\"650\"\n",
       "            src=\"http://127.0.0.1:8050/\"\n",
       "            frameborder=\"0\"\n",
       "            allowfullscreen\n",
       "            \n",
       "        ></iframe>\n",
       "        "
      ],
      "text/plain": [
       "<IPython.lib.display.IFrame at 0x106fa909210>"
      ]
     },
     "metadata": {},
     "output_type": "display_data"
    }
   ],
   "source": [
    "# %load spacex_dash_app.py\n",
    "# Import required libraries\n",
    "import pandas as pd\n",
    "import dash\n",
    "import dash_html_components as html\n",
    "import dash_core_components as dcc\n",
    "from dash.dependencies import Input, Output\n",
    "import plotly.express as px\n",
    "\n",
    "# Read the airline data into pandas dataframe\n",
    "spacex_df = pd.read_csv(\"spacex_launch_dash.csv\")\n",
    "max_payload = spacex_df['Payload Mass (kg)'].max()\n",
    "min_payload = spacex_df['Payload Mass (kg)'].min()\n",
    "\n",
    "# Create a dash application\n",
    "app = dash.Dash(__name__)\n",
    "\n",
    "# Create an app layout\n",
    "app.layout = html.Div(children=[html.H1('SpaceX Launch Records Dashboard',\n",
    "                                        style={'textAlign': 'center', 'color': '#503D36',\n",
    "                                               'font-size': 40}),\n",
    "                                # TASK 1: Add a dropdown list to enable Launch Site selection\n",
    "                                # The default select value is for ALL sites\n",
    "                                dcc.Dropdown(id='site-dropdown',\n",
    "                                             options= [{'label': 'All Sites', 'value': 'ALL'},\n",
    "                                                        {'label': 'CCAFS LC-40', 'value': 'CCAFS LC-40'},\n",
    "                                                      {'label': 'VAFB SLC-4E', 'value': 'VAFB SLC-4E'},\n",
    "                                                      {'label': 'KSC LC-39A', 'value': 'KSC LC-39A'},\n",
    "                                                      {'label': 'CCAFS SLC-40', 'value': 'CCAFS SLC-40'}],\n",
    "                                             value = 'ALL',\n",
    "                                             placeholder = 'Select Launch Site',\n",
    "                                             searchable = True),\n",
    "                                html.Br(),\n",
    "\n",
    "                                # TASK 2: Add a pie chart to show the total successful launches count for all sites\n",
    "                                # If a specific launch site was selected, show the Success vs. Failed counts for the site\n",
    "                                html.Div(dcc.Graph(id='success-pie-chart')),\n",
    "                                html.Br(),\n",
    "\n",
    "                                html.P(\"Payload range (Kg):\"),\n",
    "                                # TASK 3: Add a slider to select payload range\n",
    "                                dcc.RangeSlider(id='payload-slider',\n",
    "                                               min=0, max=10000, step=1000,\n",
    "                                               marks={0:'0',\n",
    "                                                     100:'100'},\n",
    "                                               value=[min_payload, max_payload]),\n",
    "\n",
    "                                # TASK 4: Add a scatter chart to show the correlation between payload and launch success\n",
    "                                html.Div(dcc.Graph(id='success-payload-scatter-chart')),\n",
    "                                ])\n",
    "\n",
    "# TASK 2:\n",
    "# Add a callback function for `site-dropdown` as input, `success-pie-chart` as output\n",
    "# Function decorator to specify function input and output\n",
    "@app.callback(Output(component_id='success-pie-chart', component_property='figure'),\n",
    "              Input(component_id='site-dropdown', component_property='value'))\n",
    "def get_pie_chart(entered_site):\n",
    "    filtered_df = spacex_df\n",
    "    if entered_site == 'ALL':\n",
    "        # Total Success Launches for All Sites\n",
    "        success_counts = filtered_df.groupby('Launch Site')['class'].sum()\n",
    "        # Create a pie chart\n",
    "        fig = px.pie(values=success_counts,\n",
    "                     names=success_counts.index,\n",
    "                     title='Launch Outcomes for All Sites')\n",
    "    else:\n",
    "        # return the outcomes piechart for a selected site\n",
    "        filtered_df = filtered_df[filtered_df['Launch Site'] == entered_site]\n",
    "\n",
    "        # Success and Failed Counts for Selected Site\n",
    "        success_count = filtered_df[filtered_df['class'] == 1].shape[0]\n",
    "        failed_count = filtered_df[filtered_df['class'] == 0].shape[0]\n",
    "        fig = px.pie(values=[success_count, failed_count], \n",
    "                     names=['Success', 'Failed'], \n",
    "                     title=f'Launch Outcomes for Site: {entered_site}')\n",
    "    return fig\n",
    "# TASK 4:\n",
    "# Add a callback function for `site-dropdown` and `payload-slider` as inputs, `success-payload-scatter-chart` as output\n",
    "@app.callback(\n",
    "    Output(component_id='success-payload-scatter-chart', component_property='figure'),\n",
    "    [Input(component_id='site-dropdown', component_property='value'), Input(component_id=\"payload-slider\", component_property=\"value\")]\n",
    ")\n",
    "def update_scatterplot(selected_site, selected_payload):\n",
    "    if selected_site == 'ALL':\n",
    "        # Filter data based on payload range\n",
    "        filtered_df = spacex_df[(spacex_df['Payload Mass (kg)'] >= selected_payload[0]) & (spacex_df['Payload Mass (kg)'] <= selected_payload[1])]\n",
    "\n",
    "        # Create scatter plot\n",
    "        fig = px.scatter(filtered_df, x='Payload Mass (kg)', y='class', color='Booster Version Category', title='Payload Mass vs. Launch Outcome')\n",
    "        fig.update_layout(xaxis_title='Payload Mass (kg)', yaxis_title='Launch Outcome')\n",
    "        return fig\n",
    "    else:\n",
    "        # Filter data by site and payload range\n",
    "        filtered_df = spacex_df[(spacex_df['Launch Site'] == selected_site) & (spacex_df['Payload Mass (kg)'] >= selected_payload[0]) & (spacex_df['Payload Mass (kg)'] <= selected_payload[1])]\n",
    "\n",
    "        # Create scatter plot\n",
    "        fig = px.scatter(filtered_df, x='Payload Mass (kg)', y='class', color='Booster Version Category', title='Payload Mass vs. Launch Outcome for Selected Site')\n",
    "        fig.update_layout(xaxis_title='Payload Mass (kg)', yaxis_title='Launch Outcome')\n",
    "        return fig\n",
    "\n",
    "# Run the app\n",
    "if __name__ == '__main__':\n",
    "    app.run_server()\n"
   ]
  },
  {
   "cell_type": "code",
   "execution_count": null,
   "id": "884e9c1f-7c0b-41f1-9f03-813343983dfa",
   "metadata": {},
   "outputs": [],
   "source": []
  }
 ],
 "metadata": {
  "kernelspec": {
   "display_name": "Python 3 (ipykernel)",
   "language": "python",
   "name": "python3"
  },
  "language_info": {
   "codemirror_mode": {
    "name": "ipython",
    "version": 3
   },
   "file_extension": ".py",
   "mimetype": "text/x-python",
   "name": "python",
   "nbconvert_exporter": "python",
   "pygments_lexer": "ipython3",
   "version": "3.11.7"
  }
 },
 "nbformat": 4,
 "nbformat_minor": 5
}
